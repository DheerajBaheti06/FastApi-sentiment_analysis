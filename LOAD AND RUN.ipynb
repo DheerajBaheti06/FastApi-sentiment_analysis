{
 "cells": [
  {
   "cell_type": "code",
   "execution_count": null,
   "id": "3dbeb156-da5c-490f-9376-3e14eba0b2bf",
   "metadata": {},
   "outputs": [],
   "source": [
    "# Notebook runner using external predictor module\n",
    "from predictor import HybridSentimentPredictor\n",
    "\n",
    "# Toggle behavior\n",
    "RUN_DEMO = True\n",
    "RUN_INTERACTIVE = False  # set True to enable prompt loop\n",
    "\n",
    "print(\"Initializing predictor...\")\n",
    "predictor = HybridSentimentPredictor()\n",
    "\n",
    "if RUN_DEMO:\n",
    "    print(\"\\n\" + \"=\"*50)\n",
    "    print(\"--- Analyzing Default Showcase Comments ---\")\n",
    "    print(\"=\"*50)\n",
    "    default_comments = [\n",
    "        \"The recent amendments regarding startup compliance will definitely boost investor confidence.\",\n",
    "        \"While we appreciate the intent to simplify, the new compliance rules create a significant burden for MSMEs.\",\n",
    "        \"This is a major oversight that undermines the entire effort to help listed companies.\",\n",
    "        \"Can the ministry provide clarification on how the new ESG reporting rules will impact auditors?\",\n",
    "        \"This is a fantastic feature, I absolutely love it!\",\n",
    "        \"The service was terrible and I am very disappointed.\",\n",
    "        \"What a horrible experience, I would not recommend this to anyone.\",\n",
    "        \"Okay, I understand. Thank you for the information.\",\n",
    "        \"what the helly\",\n",
    "    ]\n",
    "    preds = predictor.predict(default_comments)\n",
    "    for t, s in zip(default_comments, preds):\n",
    "        print(f'Text: \"{t}\"\\n  -> Predicted Sentiment: {s.upper()}\\n')\n",
    "\n",
    "if RUN_INTERACTIVE:\n",
    "    print(\"\\n\" + \"=\"*50)\n",
    "    print(\"--- Interactive Sentiment Analysis ---\")\n",
    "    print(\"=\"*50)\n",
    "    print(\"Enter a comment below to analyze its sentiment.\")\n",
    "    print(\"Type 'quit' or 'exit' to stop the program.\")\n",
    "    while True:\n",
    "        user_input = input(\"\\nEnter your comment: \")\n",
    "        if user_input.lower() in ['quit', 'exit']:\n",
    "            print(\"Exiting the program. Goodbye!\")\n",
    "            break\n",
    "        if not user_input.strip():\n",
    "            print(\"Please enter some text to analyze.\")\n",
    "            continue\n",
    "        print(f'  -> Predicted Sentiment: {predictor.predict(user_input)[0].upper()}')\n"
   ]
  }
 ],
 "metadata": {
  "kernelspec": {
   "display_name": "Python 3",
   "language": "python",
   "name": "python3"
  },
  "language_info": {
   "codemirror_mode": {
    "name": "ipython",
    "version": 3
   },
   "file_extension": ".py",
   "mimetype": "text/x-python",
   "name": "python",
   "nbconvert_exporter": "python",
   "pygments_lexer": "ipython3",
   "version": "3.10.11"
  }
 },
 "nbformat": 4,
 "nbformat_minor": 5
}
